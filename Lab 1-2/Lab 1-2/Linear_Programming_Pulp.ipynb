{
 "cells": [
  {
   "cell_type": "markdown",
   "id": "05da4e62",
   "metadata": {},
   "source": [
    "# Linear Programming in PuLp"
   ]
  },
  {
   "cell_type": "markdown",
   "id": "7bd3b459",
   "metadata": {},
   "source": [
    "Solving the above linear programming problem in Python:\n",
    "PuLP is one of many libraries in Python ecosystem for solving optimization problems. You can install PuLp in Jupyter notebook as follows:"
   ]
  },
  {
   "cell_type": "code",
   "execution_count": 2,
   "id": "f02f6e07",
   "metadata": {},
   "outputs": [
    {
     "name": "stdout",
     "output_type": "stream",
     "text": [
      "Collecting pulp\n",
      "  Downloading PuLP-2.9.0-py3-none-any.whl.metadata (5.4 kB)\n",
      "Downloading PuLP-2.9.0-py3-none-any.whl (17.7 MB)\n",
      "   ---------------------------------------- 0.0/17.7 MB ? eta -:--:--\n",
      "   - -------------------------------------- 0.8/17.7 MB 6.7 MB/s eta 0:00:03\n",
      "   ----- ---------------------------------- 2.4/17.7 MB 7.9 MB/s eta 0:00:02\n",
      "   ---------- ----------------------------- 4.7/17.7 MB 8.4 MB/s eta 0:00:02\n",
      "   ------------- -------------------------- 5.8/17.7 MB 8.4 MB/s eta 0:00:02\n",
      "   -------------- ------------------------- 6.6/17.7 MB 7.2 MB/s eta 0:00:02\n",
      "   ---------------- ----------------------- 7.1/17.7 MB 6.4 MB/s eta 0:00:02\n",
      "   ---------------- ----------------------- 7.3/17.7 MB 6.0 MB/s eta 0:00:02\n",
      "   ---------------- ----------------------- 7.3/17.7 MB 6.0 MB/s eta 0:00:02\n",
      "   ----------------- ---------------------- 7.6/17.7 MB 4.6 MB/s eta 0:00:03\n",
      "   ----------------- ---------------------- 7.6/17.7 MB 4.6 MB/s eta 0:00:03\n",
      "   ----------------- ---------------------- 7.6/17.7 MB 4.6 MB/s eta 0:00:03\n",
      "   ----------------- ---------------------- 7.9/17.7 MB 3.4 MB/s eta 0:00:03\n",
      "   ----------------- ---------------------- 7.9/17.7 MB 3.4 MB/s eta 0:00:03\n",
      "   ------------------ --------------------- 8.1/17.7 MB 2.9 MB/s eta 0:00:04\n",
      "   ------------------ --------------------- 8.4/17.7 MB 2.7 MB/s eta 0:00:04\n",
      "   ------------------ --------------------- 8.4/17.7 MB 2.7 MB/s eta 0:00:04\n",
      "   ------------------- -------------------- 8.7/17.7 MB 2.4 MB/s eta 0:00:04\n",
      "   ------------------- -------------------- 8.7/17.7 MB 2.4 MB/s eta 0:00:04\n",
      "   ------------------- -------------------- 8.7/17.7 MB 2.4 MB/s eta 0:00:04\n",
      "   ------------------- -------------------- 8.7/17.7 MB 2.4 MB/s eta 0:00:04\n",
      "   ------------------- -------------------- 8.7/17.7 MB 2.4 MB/s eta 0:00:04\n",
      "   ------------------- -------------------- 8.7/17.7 MB 2.4 MB/s eta 0:00:04\n",
      "   ------------------- -------------------- 8.7/17.7 MB 2.4 MB/s eta 0:00:04\n",
      "   ------------------- -------------------- 8.7/17.7 MB 2.4 MB/s eta 0:00:04\n",
      "   ------------------- -------------------- 8.7/17.7 MB 2.4 MB/s eta 0:00:04\n",
      "   ------------------- -------------------- 8.7/17.7 MB 2.4 MB/s eta 0:00:04\n",
      "   -------------------- ------------------- 8.9/17.7 MB 1.6 MB/s eta 0:00:06\n",
      "   -------------------- ------------------- 8.9/17.7 MB 1.6 MB/s eta 0:00:06\n",
      "   -------------------- ------------------- 8.9/17.7 MB 1.6 MB/s eta 0:00:06\n",
      "   -------------------- ------------------- 9.2/17.7 MB 1.4 MB/s eta 0:00:06\n",
      "   -------------------- ------------------- 9.2/17.7 MB 1.4 MB/s eta 0:00:06\n",
      "   --------------------- ------------------ 9.4/17.7 MB 1.4 MB/s eta 0:00:06\n",
      "   --------------------- ------------------ 9.7/17.7 MB 1.4 MB/s eta 0:00:06\n",
      "   ---------------------- ----------------- 10.0/17.7 MB 1.4 MB/s eta 0:00:06\n",
      "   ----------------------- ---------------- 10.5/17.7 MB 1.4 MB/s eta 0:00:06\n",
      "   ------------------------ --------------- 11.0/17.7 MB 1.4 MB/s eta 0:00:05\n",
      "   -------------------------- ------------- 11.8/17.7 MB 1.5 MB/s eta 0:00:04\n",
      "   ----------------------------- ---------- 12.8/17.7 MB 1.6 MB/s eta 0:00:04\n",
      "   -------------------------------- ------- 14.2/17.7 MB 1.7 MB/s eta 0:00:03\n",
      "   ---------------------------------- ----- 15.2/17.7 MB 1.8 MB/s eta 0:00:02\n",
      "   ------------------------------------- -- 16.8/17.7 MB 1.9 MB/s eta 0:00:01\n",
      "   ---------------------------------------- 17.7/17.7 MB 2.0 MB/s eta 0:00:00\n",
      "Installing collected packages: pulp\n",
      "Successfully installed pulp-2.9.0\n"
     ]
    }
   ],
   "source": [
    "!pip install pulp"
   ]
  },
  {
   "cell_type": "markdown",
   "id": "6f06eac9",
   "metadata": {},
   "source": [
    "**Example 1:** Consider the following problem:\n",
    "$$\\begin{matrix}\\text{Minimize:} &  z = 3x + 5y\\\\\n",
    "\\text{Subject to:} & 2x + 3y \\geq 12 \\\\\n",
    "& -x + y \\leq 3\\\\\n",
    "& x \\geq 4 \\\\\n",
    "& y \\leq 3 \\\\\n",
    "&x,\\ y \\geq 0\\end{matrix}$$"
   ]
  },
  {
   "cell_type": "markdown",
   "id": "087b2caa",
   "metadata": {},
   "source": [
    "**Code:** To solve the aforementioned linear programming problem in Python:"
   ]
  },
  {
   "cell_type": "code",
   "execution_count": 3,
   "id": "b00f9c6d",
   "metadata": {},
   "outputs": [
    {
     "name": "stdout",
     "output_type": "stream",
     "text": [
      "Problem:\n",
      "MINIMIZE\n",
      "3*x + 5*y + 0\n",
      "SUBJECT TO\n",
      "_C1: 2 x + 3 y >= 12\n",
      "\n",
      "_C2: - x + y <= 3\n",
      "\n",
      "_C3: x >= 4\n",
      "\n",
      "_C4: y <= 3\n",
      "\n",
      "VARIABLES\n",
      "x Continuous\n",
      "y Continuous\n",
      "\n",
      "Optimal\n",
      "6.0 0.0 18.0\n"
     ]
    }
   ],
   "source": [
    "# import the library pulp as p\n",
    "import pulp as p\n",
    "  \n",
    "# Create a LP Minimization problem\n",
    "Lp_prob = p.LpProblem('Problem', p.LpMinimize) \n",
    "  \n",
    "# Create problem Variables \n",
    "x = p.LpVariable(\"x\", lowBound = 0)   # Create a variable x >= 0\n",
    "y = p.LpVariable(\"y\", lowBound = 0)   # Create a variable y >= 0\n",
    "  \n",
    "# Objective Function\n",
    "Lp_prob += 3 * x + 5 * y   \n",
    "  \n",
    "# Constraints:\n",
    "Lp_prob += 2 * x + 3 * y >= 12\n",
    "Lp_prob += -x + y <= 3\n",
    "Lp_prob += x >= 4\n",
    "Lp_prob += y <= 3\n",
    "  \n",
    "# Display the problem\n",
    "print(Lp_prob)\n",
    "  \n",
    "status = Lp_prob.solve()   # Solver\n",
    "print(p.LpStatus[status])   # The solution status\n",
    "  \n",
    "# Printing the final solution\n",
    "print(p.value(x), p.value(y), p.value(Lp_prob.objective)) "
   ]
  },
  {
   "cell_type": "code",
   "execution_count": 4,
   "id": "45bfa879",
   "metadata": {},
   "outputs": [
    {
     "name": "stdout",
     "output_type": "stream",
     "text": [
      "18.000000000948972 5.999999998651547 9.988658134249225e-10\n"
     ]
    }
   ],
   "source": [
    "#using cvxpy\n",
    "import cvxpy as cp\n",
    "\n",
    "x, y = cp.Variable(), cp.Variable()\n",
    "obj = cp.Minimize(3*x + 5*y)\n",
    "\n",
    "cons = [\n",
    "    2*x + 3*y >= 12,\n",
    "    -x + y <= 3,\n",
    "    x>=4,\n",
    "    y<=3,\n",
    "    x>=0,\n",
    "    y>=0\n",
    "]\n",
    "pro = cp.Problem(obj, cons)\n",
    "pro.solve()\n",
    "print(pro.value, x.value, y.value)"
   ]
  },
  {
   "cell_type": "markdown",
   "id": "ba138c87",
   "metadata": {},
   "source": [
    "# Explanation :\n",
    "\n",
    "Now, let’s understand the code step by step:\n",
    "<ul>\n",
    "<li> Line 1-2: First import the library pulp as p. </li>\n",
    "<li> Line 4-5: Define the problem by giving a suitable name to your problem, here I have given the name ‘Problem’. Also, specify your aim for the objective function of whether to Maximize or Minimize.</li> \n",
    "<li> Line 7-9: Define LpVariable to hold the variables of the objective functions. The next argument specifies the lower bound of the defined variable, i.e. 0, and the upper bound is none by default. You can specify the upper bound too.</li> \n",
    "<li> Line 11-12: Denotes the objective function in terms of defined variables.</li> \n",
    "<li> Line 14-18: These are the constraints on the variables.</li> \n",
    "<li> Line 21: This will show you the problem in the output screen.</li> \n",
    "<li> Line 23: This is the problem solver.</li> \n",
    "<li> Line 24: Will display the status of the problem.</li> \n",
    "<li> Line 27: Will print the value for x and y and the minimum value for the objective function.</li> \n",
    "</ul>"
   ]
  },
  {
   "cell_type": "code",
   "execution_count": 4,
   "id": "c8c3cfae",
   "metadata": {},
   "outputs": [
    {
     "name": "stdout",
     "output_type": "stream",
     "text": [
      "Problem:\n",
      "MINIMIZE\n",
      "3*x + 5*y + 0\n",
      "SUBJECT TO\n",
      "_C1: 2 x + 3 y >= 12\n",
      "\n",
      "_C2: - x + y <= 3\n",
      "\n",
      "_C3: x >= 4\n",
      "\n",
      "_C4: y <= 3\n",
      "\n",
      "VARIABLES\n",
      "x Continuous\n",
      "y Continuous\n",
      "\n"
     ]
    }
   ],
   "source": [
    "# Display the problem\n",
    "print(Lp_prob)"
   ]
  },
  {
   "cell_type": "code",
   "execution_count": 5,
   "id": "58209a5a",
   "metadata": {},
   "outputs": [
    {
     "name": "stdout",
     "output_type": "stream",
     "text": [
      "Optimal\n"
     ]
    }
   ],
   "source": [
    "status = Lp_prob.solve()   # Solver\n",
    "print(p.LpStatus[status])   # The solution status"
   ]
  },
  {
   "cell_type": "markdown",
   "id": "07b1ba0f",
   "metadata": {},
   "source": [
    "# Final Solution"
   ]
  },
  {
   "cell_type": "code",
   "execution_count": 6,
   "id": "09cbc6f0",
   "metadata": {},
   "outputs": [
    {
     "name": "stdout",
     "output_type": "stream",
     "text": [
      "6.0 0.0 18.0\n"
     ]
    }
   ],
   "source": [
    "# Printing the final solution\n",
    "print(p.value(x), p.value(y), p.value(Lp_prob.objective))"
   ]
  },
  {
   "cell_type": "markdown",
   "id": "27c53095",
   "metadata": {},
   "source": [
    "The optimal value for x and y are 6.0 and 0.0 respectively. The optimised objective function value is 18.0."
   ]
  },
  {
   "cell_type": "code",
   "execution_count": null,
   "id": "55beeda1",
   "metadata": {},
   "outputs": [],
   "source": []
  }
 ],
 "metadata": {
  "kernelspec": {
   "display_name": "Python 3 (ipykernel)",
   "language": "python",
   "name": "python3"
  },
  "language_info": {
   "codemirror_mode": {
    "name": "ipython",
    "version": 3
   },
   "file_extension": ".py",
   "mimetype": "text/x-python",
   "name": "python",
   "nbconvert_exporter": "python",
   "pygments_lexer": "ipython3",
   "version": "3.10.11"
  }
 },
 "nbformat": 4,
 "nbformat_minor": 5
}
